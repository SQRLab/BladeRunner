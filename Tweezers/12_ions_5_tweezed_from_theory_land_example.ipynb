{
 "cells": [
  {
   "cell_type": "code",
   "execution_count": 1,
   "id": "9df8c7af",
   "metadata": {},
   "outputs": [],
   "source": [
    "import numpy as np\n",
    "from scipy import constants\n",
    "import tabulate\n",
    "import pandas as pd\n",
    "import matplotlib.pyplot as plt\n",
    "from IonChainTools import calcPositions,lengthScale\n",
    "from tweezer_functions import *"
   ]
  },
  {
   "cell_type": "code",
   "execution_count": 2,
   "id": "d04d254a",
   "metadata": {},
   "outputs": [],
   "source": [
    "#Constants in SI units\n",
    "eps0 = constants.epsilon_0 \n",
    "m = 39.9626*constants.atomic_mass\n",
    "c = constants.c\n",
    "e = constants.e\n",
    "hbar = constants.hbar\n",
    "pi = np.pi"
   ]
  },
  {
   "cell_type": "code",
   "execution_count": 3,
   "id": "635f8ccf",
   "metadata": {},
   "outputs": [],
   "source": [
    "#number of ions\n",
    "N = 12\n",
    "#tweezed ions is an adjustable parameter\n",
    "tweezed_ions = [0,1,5,6,10,11]\n",
    "\n",
    "\n",
    "#radial and axial frequencies of the blade trap\n",
    "w_rf_r = 2*pi*3e6\n",
    "w_rf_a = 2*pi*0.5e6\n",
    "\n",
    "#radial and axial frequencies of tweezer trap\n",
    "w_tweezer_r = 2*pi*1e6\n",
    "w_tweezer_a = 2*pi*0.2*1e6"
   ]
  },
  {
   "cell_type": "code",
   "execution_count": 4,
   "id": "9b4788c7",
   "metadata": {},
   "outputs": [
    {
     "ename": "NameError",
     "evalue": "name 'omega_rf_a' is not defined",
     "output_type": "error",
     "traceback": [
      "\u001b[0;31m---------------------------------------------------------------------------\u001b[0m",
      "\u001b[0;31mNameError\u001b[0m                                 Traceback (most recent call last)",
      "Cell \u001b[0;32mIn[4], line 1\u001b[0m\n\u001b[0;32m----> 1\u001b[0m \u001b[43mindividual_freqs_to_mode_vectors\u001b[49m\u001b[43m(\u001b[49m\u001b[43mN\u001b[49m\u001b[43m,\u001b[49m\u001b[43mtweezed_ions\u001b[49m\u001b[43m,\u001b[49m\u001b[43mw_tweezer_r\u001b[49m\u001b[43m,\u001b[49m\u001b[43mw_tweezer_a\u001b[49m\u001b[43m,\u001b[49m\u001b[43mw_rf_r\u001b[49m\u001b[43m,\u001b[49m\u001b[43mw_rf_a\u001b[49m\u001b[43m)\u001b[49m\n",
      "File \u001b[0;32m~/SQRL_Rithi_python/BladeRunner/Tweezers/tweezer_functions.py:284\u001b[0m, in \u001b[0;36mindividual_freqs_to_mode_vectors\u001b[0;34m(N, tweezed_ions, w_tweezer_r, w_tweezer_a, w_rf_r, w_rf_a)\u001b[0m\n\u001b[1;32m    269\u001b[0m \u001b[38;5;28;01mdef\u001b[39;00m \u001b[38;5;21mindividual_freqs_to_mode_vectors\u001b[39m(N,tweezed_ions,w_tweezer_r,w_tweezer_a,w_rf_r,w_rf_a):\n\u001b[1;32m    270\u001b[0m     \u001b[38;5;124;03m\"\"\"\u001b[39;00m\n\u001b[1;32m    271\u001b[0m \u001b[38;5;124;03m    takes in output from combined_frequencies and outputs new radial modes\u001b[39;00m\n\u001b[1;32m    272\u001b[0m \u001b[38;5;124;03m    \u001b[39;00m\n\u001b[0;32m   (...)\u001b[0m\n\u001b[1;32m    282\u001b[0m \u001b[38;5;124;03m    \u001b[39;00m\n\u001b[1;32m    283\u001b[0m \u001b[38;5;124;03m    \"\"\"\u001b[39;00m\n\u001b[0;32m--> 284\u001b[0m     combined_freqs \u001b[38;5;241m=\u001b[39m combined_frequencies(N,tweezed_ions,w_tweezer_r,w_tweezer_a,w_rf_r,\u001b[43momega_rf_a\u001b[49m)\n\u001b[1;32m    285\u001b[0m     omega_r_combined \u001b[38;5;241m=\u001b[39m combined_freqs[\u001b[38;5;241m0\u001b[39m]\n\u001b[1;32m    286\u001b[0m     omega_a \u001b[38;5;241m=\u001b[39m omega_rf_a\n",
      "\u001b[0;31mNameError\u001b[0m: name 'omega_rf_a' is not defined"
     ]
    }
   ],
   "source": [
    "individual_freqs_to_mode_vectors(N,tweezed_ions,w_tweezer_r,w_tweezer_a,w_rf_r,w_rf_a)"
   ]
  }
 ],
 "metadata": {
  "kernelspec": {
   "display_name": "Python 3 (ipykernel)",
   "language": "python",
   "name": "python3"
  },
  "language_info": {
   "codemirror_mode": {
    "name": "ipython",
    "version": 3
   },
   "file_extension": ".py",
   "mimetype": "text/x-python",
   "name": "python",
   "nbconvert_exporter": "python",
   "pygments_lexer": "ipython3",
   "version": "3.10.9"
  }
 },
 "nbformat": 4,
 "nbformat_minor": 5
}
