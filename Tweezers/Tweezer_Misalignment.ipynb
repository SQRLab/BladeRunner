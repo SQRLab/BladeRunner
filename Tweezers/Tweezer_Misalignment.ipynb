{
 "cells": [
  {
   "cell_type": "code",
   "execution_count": null,
   "metadata": {},
   "outputs": [],
   "source": [
    "import numpy as np\n",
    "from scipy import constants\n",
    "import tabulate\n",
    "import pandas as pd\n",
    "import matplotlib.pyplot as plt\n",
    "from IonChainTools import calcPositions,lengthScale,ion_position_potential\n",
    "from tweezer_functions import *\n",
    "from scipy.optimize import fsolve\n",
    "\n",
    "#Constants in SI units\n",
    "eps0 = constants.epsilon_0 \n",
    "m = 39.9626*constants.atomic_mass\n",
    "c = constants.c\n",
    "e = constants.e\n",
    "hbar = constants.hbar\n",
    "pi = np.pi\n",
    "\n",
    "# setting up parameters that we're not changing\n",
    "NA = 0.1\n",
    "tweezer_wavelength = 532e-9\n",
    "omega_tweezer = 2*pi*c/tweezer_wavelength\n",
    "df = pd.read_csv(\"S_P_only.csv\",sep = \",\",encoding = \"UTF-8\")\n",
    "lambdares = np.array(df[\"wavelength (nm)\"])*1e-9\n",
    "omega_res = 2*pi*c/lambdares\n",
    "linewidths = np.array(df[\"A_ki (s^-1)\"])\n",
    "lifetimes = linewidths"
   ]
  },
  {
   "cell_type": "code",
   "execution_count": null,
   "metadata": {},
   "outputs": [],
   "source": [
    "N = 3\n",
    "x = np.empty(N)\n",
    "omega_rf_axial = 1 * 2 * pi * 1e6\n",
    "U = 5e-3\n",
    "beam_waist = 5e-6\n",
    "omega_tw_radial = tweezer_optical_potential_to_trap_frequency(tweezer_wavelength,linewidths,omega_res,P0,beam_waist,m)[0]\n",
    "print(omega_tw_radial)\n",
    "tweezed_ion = 0\n",
    "displacement = beam_waist * 0.9\n",
    "ionspacing = ion_spacing(N,omega_rf_axial)\n",
    "\n",
    "print(pot_derivative_with_tweeze(x, omega_rf_axial, omega_tw_radial, tweezed_ion, displacement))\n",
    "print(ion_position_potential(x))"
   ]
  },
  {
   "cell_type": "code",
   "execution_count": null,
   "metadata": {},
   "outputs": [],
   "source": [
    "tweeze_on = fsolve(pot_derivative_with_tweeze,ionspacing[0],args = (omega_rf_axial,omega_tw_radial,tweezed_ion,displacement))\n",
    "print(tweeze_on)\n",
    "print(ionspacing)\n",
    "ionspacing[0] == fsolve(pot_derivative_with_tweeze,ionspacing[0],args = (omega_rf_axial,omega_tw_radial,tweezed_ion,displacement))"
   ]
  },
  {
   "cell_type": "code",
   "execution_count": null,
   "metadata": {},
   "outputs": [],
   "source": [
    "tweeze_on[0] - ionspacing[0][tweezed_ion]"
   ]
  },
  {
   "cell_type": "code",
   "execution_count": null,
   "metadata": {},
   "outputs": [],
   "source": [
    "P0 = 5e-3\n",
    "FWHM = (4.5)*1e-6\n",
    "z_pos = 0\n",
    "lambda_beam = 532e-9\n",
    "\n",
    "#making a list of r-positions to pass through the potential function.  This is in the frame of the laser beam,\n",
    "#so 0 is the center of the beam\n",
    "r_pos = np.arange((4.5/2)*0.85*1e-6,(4.5/2)*(0.95)*1e-6,0.001e-6)\n",
    "\n",
    "rayleigh = rayleigh_length(FWHM,lambda_beam)\n",
    "beampropo = beam_propogation(FWHM,rayleigh,z_pos)\n",
    "I_beam = intensity(P0,FWHM,beampropo,r_pos)\n",
    "a = potential_position_dependent(omega_res,linewidths,omega_tweezer,I_beam)"
   ]
  },
  {
   "cell_type": "code",
   "execution_count": null,
   "metadata": {},
   "outputs": [],
   "source": [
    "#fitting the potential vector to a quadratic function\n",
    "from scipy import optimize\n",
    "\n",
    "def poly(x,a,b):\n",
    "    return a+b*(x**2)\n",
    "xdata = r_pos\n",
    "ydata = a\n",
    "\n",
    "popt, pcov = optimize.curve_fit(poly, xdata, ydata)\n",
    "\n",
    "print(popt,pcov)\n",
    "\n",
    "plt.plot(xdata,ydata,'r.')\n",
    "plt.plot(xdata,poly(xdata, *popt) ,'b-',label=f'fit: a={popt[0]:.2e} + b={popt[1]:.2e} $x^{{2}}$')\n",
    "plt.xlabel(\"r-position (m)\")\n",
    "plt.ylabel(\"potential (J)\")\n",
    "plt.title(\"Quadratic fit to Gaussian Potential\")\n",
    "plt.legend()\n",
    "plt.show()"
   ]
  },
  {
   "cell_type": "code",
   "execution_count": null,
   "metadata": {},
   "outputs": [],
   "source": [
    "#popt[1] should be 1/2*k, to get omega,w = sqrt(k/m)\n",
    "fit = np.sqrt(2*popt[1]/m)\n",
    "print(fit)\n",
    "#I thought the fit from above should match the frequency found from below, since it's using the same beam params\n",
    "P0 = 5e-3\n",
    "huh = tweezer_optical_potential_to_trap_frequency(lambda_beam,linewidths,omega_res,P0,FWHM,m)\n",
    "print(huh[0])\n",
    "print(fit/huh[0])"
   ]
  },
  {
   "cell_type": "code",
   "execution_count": null,
   "metadata": {},
   "outputs": [],
   "source": [
    "#calculating the r-squared value of the fit\n",
    "alpha_x = tuple(popt)[1]\n",
    "residuals = ydata- poly(xdata, *popt)\n",
    "ss_res = np.sum(residuals**2)\n",
    "ss_tot = np.sum((ydata-np.mean(ydata))**2)\n",
    "r_squared = 1 - (ss_res / ss_tot)\n",
    "print(r_squared)"
   ]
  },
  {
   "cell_type": "code",
   "execution_count": null,
   "metadata": {},
   "outputs": [],
   "source": []
  }
 ],
 "metadata": {
  "language_info": {
   "name": "python"
  }
 },
 "nbformat": 4,
 "nbformat_minor": 2
}
