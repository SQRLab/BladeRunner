{
 "cells": [
  {
   "cell_type": "code",
   "execution_count": 66,
   "id": "dba68f81",
   "metadata": {},
   "outputs": [],
   "source": [
    "import numpy as np\n",
    "from scipy import constants\n",
    "import tabulate\n",
    "import pandas as pd\n",
    "import matplotlib.pyplot as plt\n",
    "from IonChainTools import calcPositions,lengthScale\n",
    "from tweezer_functions import *"
   ]
  },
  {
   "cell_type": "code",
   "execution_count": 67,
   "id": "1247a724",
   "metadata": {},
   "outputs": [],
   "source": [
    "#Constants in SI units\n",
    "eps0 = constants.epsilon_0 \n",
    "m = 39.9626*constants.atomic_mass\n",
    "c = constants.c\n",
    "e = constants.e\n",
    "hbar = constants.hbar\n",
    "pi = np.pi"
   ]
  },
  {
   "cell_type": "code",
   "execution_count": 68,
   "id": "5d56caa5",
   "metadata": {},
   "outputs": [
    {
     "name": "stdout",
     "output_type": "stream",
     "text": [
      "[4788543317790194.0, 4746544743851730.0]\n"
     ]
    }
   ],
   "source": [
    "N = 12\n",
    "#tweezed ions is an adjustable parameter\n",
    "tweezed_ions = [0,1,5,6,10,11]\n",
    "omega_rf_r = 1.0 * pi * 1e6 *2\n",
    "omega_a = omega_rf_r /8\n",
    "\n",
    "NA = 0.6\n",
    "wx = 2*pi*1e6\n",
    "d = 5e-6\n",
    "tweezer_wavelength = 532*1e9\n",
    "P_opt = 15e-3\n",
    "omega_tweezer = 2*pi*c/tweezer_wavelength\n",
    "df = pd.read_csv('S_P_only.csv',sep = \",\",encoding='UTF-8')\n",
    "\n",
    "lambdares = df[\"wavelength (nm)\"]\n",
    "lambdares = [i*1e-9 for i in lambdares]\n",
    "omegares = [2*pi*c/i for i in lambdares]\n",
    "print(omegares)\n",
    "lifetimes = df[\"A_ki (s^-1)\"]\n",
    "lifetimes = [i for i in lifetimes]\n",
    "omega_res = np.array(omegares)\n",
    "linewidths = np.array(lifetimes)\n",
    "\n",
    "\n",
    "beam_waist = 0.41*tweezer_wavelength / NA\n",
    "#i'm not sure what the line under here is supposed to be for, I can't remember\n",
    "#omega_tweezer_r = omega_tweezer_r(potential(omega_tweezer,linewidths,omega_res,P_opt,beam_waists),beam_waists,m)\n",
    "\n"
   ]
  },
  {
   "cell_type": "code",
   "execution_count": 102,
   "id": "3cec548a",
   "metadata": {},
   "outputs": [],
   "source": [
    "def combined_frequencies(N,tweezed_ions,omega_tweezer_r,omega_tweezer_a,omega_rf_r,omega_rf_a):\n",
    "\n",
    "\n",
    "    w_tweezer_r = np.zeros(N)\n",
    "    w_tweezer_a = np.zeros(N)\n",
    "    w_tweezer_r[tweezed_ions] = omega_tweezer_r\n",
    "    w_tweezer_a[tweezed_ions] = omega_tweezer_a\n",
    "\n",
    "    w_rf_r = omega_rf_r * np.ones(N) \n",
    "    w_rf_a = omega_a * np.ones(N)\n",
    "\n",
    "    omega_combined_rr = np.sqrt(w_rf_r**2 + w_tweezer_r**2)\n",
    "    omega_combined_ra = np.sqrt(w_rf_r**2 + w_tweezer_a)\n",
    "    omega_combined_ar = np.sqrt(w_rf_a**2 + w_tweezer_r**2)\n",
    "    \n",
    "    return np.array([omega_combined_rr,omega_combined_ra,omega_combined_ar])\n",
    "\n",
    "def trapping_ratios(omega_tweezer_r,omega_tweezer_a,omega_rf_r,omega_rf_a):\n",
    "    \n",
    "    tweezer_r_to_rf_ratio = omega_tweezer_r / omega_rf_r\n",
    "    tweezer_r_to_axial_ratio = omega_tweezer_r / omega_rf_a\n",
    "    tweezer_a_to_rf_ratio = omega_tweezer_a / omega_rf_a\n",
    "    \n",
    "    return np.array([tweezer_r_to_rf_ratio,tweezer_r_to_axial_ratio])"
   ]
  },
  {
   "cell_type": "code",
   "execution_count": 70,
   "id": "ea8d0b65",
   "metadata": {},
   "outputs": [],
   "source": [
    "def potential(omega_tweezer,linewidths,omega_res,P_opt,beam_waist):\n",
    "    '''\n",
    "    Find the potential of the optical tweezers beam for\n",
    "    the given set of parameters at r=0 and z=0 -- without RWA\n",
    "\n",
    "\n",
    "    omega_tweezer = angular frequency of tweezer laser beam\n",
    "    linewidths = linewidth of the given resonant transition of ion taken from NIST database in angular frequency units \n",
    "        (ex, S1/2 to P1/2 and S1/2 to P3/2 for 40Ca+), this is a list/array of some form with all relevent transitions\n",
    "    P_opt = total optical power of tweezer laser beam\n",
    "    omega_res = angular frequency of resonant transition, also based off NIST data\n",
    "    beam_waists = beamwaist of the tweezer laser beam\n",
    "    given its frequency and the NA of our system or from measurement\n",
    "    '''\n",
    "    p = []\n",
    "    for i in range(len(linewidths)): \n",
    "        p.append( (-3*P_opt*(c**2)/((omega_res[i]**3)*(beam_waist**2))) * (linewidths[i]/((omega_res[i] - omega_tweezer)) +\n",
    "                                          linewidths[i]/(omega_res[i] + omega_tweezer)) ) \n",
    "    pot = sum(p)\n",
    "    return pot"
   ]
  },
  {
   "cell_type": "code",
   "execution_count": 71,
   "id": "bc404611",
   "metadata": {},
   "outputs": [
    {
     "data": {
      "text/plain": [
       "-3.3993516342902157e-62"
      ]
     },
     "execution_count": 71,
     "metadata": {},
     "output_type": "execute_result"
    }
   ],
   "source": [
    "potential(omega_tweezer,linewidths,omega_res,P_opt,beam_waist)"
   ]
  },
  {
   "cell_type": "code",
   "execution_count": 72,
   "id": "59f5558f",
   "metadata": {},
   "outputs": [],
   "source": [
    "def potentialRWA(omega_tweezer,linewidths,omega_res,P_opt,beam_waist):\n",
    "    '''\n",
    "    Find the potential of the optical tweezers beam for\n",
    "    the given set of parameters at r=0 and z=0 -- with RWA\n",
    "\n",
    "\n",
    "    omega_tweezer = angular frequency of tweezer laser beam\n",
    "    linewidths = linewidth of the given resonant transition of ion taken from NIST database in angular frequency units \n",
    "        (ex, S1/2 to P1/2 and S1/2 to P3/2 for 40Ca+), this is a list/array of some form with all relevent transitions\n",
    "    P_opt = total optical power of tweezer laser beam\n",
    "    omega_res = angular frequency of resonant transition, also based off NIST data\n",
    "    beam_waists = beamwaist of the tweezer laser beam\n",
    "    given its frequency and the NA of our system or from measurement\n",
    "    '''\n",
    "    p = []\n",
    "    for i in range(len(linewidths)): \n",
    "        p.append( (-3*P_opt*(c**2)/((omega_res[i]**3)*(beam_waist**2))) * (linewidths[i]/((omega_res[i] - omega_tweezer)))  ) \n",
    "    pot = sum(p)\n",
    "    return pot"
   ]
  },
  {
   "cell_type": "code",
   "execution_count": 73,
   "id": "7da6430b",
   "metadata": {},
   "outputs": [
    {
     "data": {
      "text/plain": [
       "-1.6996758171451078e-62"
      ]
     },
     "execution_count": 73,
     "metadata": {},
     "output_type": "execute_result"
    }
   ],
   "source": [
    "potentialRWA(omega_tweezer,linewidths,omega_res,P_opt,beam_waist)"
   ]
  },
  {
   "cell_type": "code",
   "execution_count": 74,
   "id": "4bdeb97c",
   "metadata": {},
   "outputs": [
    {
     "data": {
      "text/plain": [
       "-1.6996758171451078e-62"
      ]
     },
     "execution_count": 74,
     "metadata": {},
     "output_type": "execute_result"
    }
   ],
   "source": [
    "test = []\n",
    "for i in range(len(linewidths)):\n",
    "    test.append ((-3*P_opt*(c**2)/((omega_res[i]**3)*(beam_waist**2))) *\n",
    "                                          (linewidths[i]/(omega_res[i] + omega_tweezer)) )\n",
    "sum(test)    \n"
   ]
  },
  {
   "cell_type": "code",
   "execution_count": 75,
   "id": "c5f3a9f8",
   "metadata": {},
   "outputs": [
    {
     "data": {
      "text/plain": [
       "True"
      ]
     },
     "execution_count": 75,
     "metadata": {},
     "output_type": "execute_result"
    }
   ],
   "source": [
    " potentialRWA(omega_tweezer,linewidths,omega_res,P_opt,beam_waist) + -1.6996758171451078e-62 ==  potential(omega_tweezer,linewidths,omega_res,P_opt,beam_waist)"
   ]
  },
  {
   "cell_type": "code",
   "execution_count": 76,
   "id": "aa7bcbe0",
   "metadata": {},
   "outputs": [],
   "source": [
    "def scattering(omega_tweezer,linewidths,omega_res,P_opt,beam_waist):\n",
    "    '''\n",
    "    Find the scattering of the optical tweezers beam (at r=0 and z=0) off of a given resonance\n",
    "    for the given set of parameters -- without RWA\n",
    "    omega_tweezer = angular frequency of tweezer laser beam\n",
    "    linewidths = linewidth of the given resonant transition taken from NIST database in angular frequency units \n",
    "        (ex, S1/2 to P1/2 and S1/2 to P3/2 for 40Ca+)\n",
    "    P_opt = total optical power of tweezer laser beam\n",
    "    omega_res = angular frequency of resonant transition, also based off NIST data\n",
    "    beam_waists = beamwaist of the tweezer laser beam\n",
    "    given its frequency and the NA of our system or from measurement\n",
    "    '''\n",
    "    s = []\n",
    "    for i in range(len(linewidths)):\n",
    "        s.append(((3*(c**2)*P_opt)/(hbar *pi* (omega_res[i]**3)*(beam_waist**2))) *((omega_tweezer/omegares[i])**3)* (((linewidths[i]/(omega_res[i] - omega_tweezer))+\n",
    "                                                                            (linewidths[i]/(omegares[i] + omega_tweezer)))**2) )\n",
    "    scat = sum(s)\n",
    "    return scat"
   ]
  },
  {
   "cell_type": "code",
   "execution_count": 77,
   "id": "bfa48d72",
   "metadata": {},
   "outputs": [
    {
     "data": {
      "text/plain": [
       "2.5296327133374226e-90"
      ]
     },
     "execution_count": 77,
     "metadata": {},
     "output_type": "execute_result"
    }
   ],
   "source": [
    "scattering(omega_tweezer,linewidths,omega_res,P_opt,beam_waist)"
   ]
  },
  {
   "cell_type": "code",
   "execution_count": 89,
   "id": "6aa16fee",
   "metadata": {},
   "outputs": [],
   "source": [
    "def scatteringRWA(omega_tweezer,linewidths,omega_res,P_opt,beam_waist):\n",
    "    '''\n",
    "    Find the scattering of the optical tweezers beam (at r=0 and z=0) off of a given resonance\n",
    "    for the given set of parameters -- with RWA\n",
    "    omega_tweezer = angular frequency of tweezer laser beam\n",
    "    linewidths = linewidth of the given resonant transition taken from NIST database in angular frequency units \n",
    "        (ex, S1/2 to P1/2 and S1/2 to P3/2 for 40Ca+)\n",
    "    P_opt = total optical power of tweezer laser beam\n",
    "    omega_res = angular frequency of resonant transition, also based off NIST data\n",
    "    beam_waists = beamwaist of the tweezer laser beam\n",
    "    given its frequency and the NA of our system or from measurement\n",
    "    '''\n",
    "    s = []\n",
    "    for i in range(len(linewidths)):\n",
    "        s.append( (3*P_opt*(c**2)/(hbar *pi* (omega_res[i]**3)*(beam_waist**2))) *((omega_tweezer/omega_res[i])**3) *((linewidths[i]/(omega_res[i] - omega_tweezer))**(2)) \n",
    "        )\n",
    "    scat = sum(s)\n",
    "    return scat\n",
    "\n"
   ]
  },
  {
   "cell_type": "code",
   "execution_count": 90,
   "id": "b20f488b",
   "metadata": {},
   "outputs": [
    {
     "data": {
      "text/plain": [
       "6.324081783343556e-91"
      ]
     },
     "execution_count": 90,
     "metadata": {},
     "output_type": "execute_result"
    }
   ],
   "source": [
    "scatteringRWA(omega_tweezer,linewidths,omega_res,P_opt,beam_waist)"
   ]
  },
  {
   "cell_type": "code",
   "execution_count": 105,
   "id": "d0e1816c",
   "metadata": {},
   "outputs": [
    {
     "name": "stderr",
     "output_type": "stream",
     "text": [
      "/Users/ritika/SQRL_Rithi_python/BladeRunner/Tweezers/tweezer_functions.py:137: RuntimeWarning: invalid value encountered in sqrt\n",
      "  freqs =( np.sqrt(1*eigvals))/(2*pi*m) #eigenvalue = spring constant k, so freq = sqrt(e-val)/(2*pi*m)\n"
     ]
    },
    {
     "data": {
      "text/plain": [
       "[(nan,\n",
       "  array([-0.05576357,  0.46586602, -0.7481434 ,  0.46586602, -0.05576357])),\n",
       " (1312316.1570960416,\n",
       "  array([0.67396086, 0.19073979, 0.13707726, 0.19073979, 0.67396086])),\n",
       " (1290588.0239287103,\n",
       "  array([-6.93984576e-01, -1.35592804e-01, -6.89943090e-12,  1.35592804e-01,\n",
       "          6.93984576e-01])),\n",
       " (814816.311146096,\n",
       "  array([ 0.20656035, -0.49657545, -0.6492236 , -0.49657545,  0.20656035])),\n",
       " (207034.7482634093,\n",
       "  array([ 1.35592804e-01, -6.93984576e-01, -7.38873780e-12,  6.93984576e-01,\n",
       "         -1.35592804e-01]))]"
      ]
     },
     "execution_count": 105,
     "metadata": {},
     "output_type": "execute_result"
    }
   ],
   "source": [
    "N = 5\n",
    "tweezed_ions = [0,4]\n",
    "omega_tweezer_r = 2*pi*1e6\n",
    "omega_tweezer_a = 2*pi*0.5*1e6\n",
    "omega_rf_r = 2*pi*1e6\n",
    "omega_rf_a = 2*pi*0.5e6\n",
    "\n",
    "parameters = np.array([N,tweezed_ions,omega_tweezer_r,omega_tweezer])\n",
    "\n",
    "\n",
    "combined_freqs = combined_frequencies(N,tweezed_ions,omega_tweezer_r,omega_tweezer_a,omega_rf_r,omega_rf_a)\n",
    "\n",
    "\n",
    "omega_r_combined = combined_freqs[0]\n",
    "omega_a = omega_rf_a\n",
    "\n",
    "mode_calc_r(m,omega_r_combined,omega_a)"
   ]
  },
  {
   "cell_type": "code",
   "execution_count": 103,
   "id": "84f1dc9b",
   "metadata": {},
   "outputs": [
    {
     "data": {
      "text/plain": [
       "array([[8885765.87631673, 6283185.30717959, 6283185.30717959,\n",
       "        6283185.30717959, 8885765.87631673],\n",
       "       [6283185.55717958, 6283185.30717959, 6283185.30717959,\n",
       "        6283185.30717959, 6283185.55717958],\n",
       "       [6332082.42835053,  785398.16339745,  785398.16339745,\n",
       "         785398.16339745, 6332082.42835053]])"
      ]
     },
     "execution_count": 103,
     "metadata": {},
     "output_type": "execute_result"
    }
   ],
   "source": [
    "\n",
    "combined_frequencies(N,tweezed_ions,omega_tweezer_r,omega_tweezer_a,omega_rf_r,omega_rf_a)\n"
   ]
  },
  {
   "cell_type": "code",
   "execution_count": null,
   "id": "f46a8fcc",
   "metadata": {},
   "outputs": [],
   "source": []
  }
 ],
 "metadata": {
  "kernelspec": {
   "display_name": "Python 3 (ipykernel)",
   "language": "python",
   "name": "python3"
  },
  "language_info": {
   "codemirror_mode": {
    "name": "ipython",
    "version": 3
   },
   "file_extension": ".py",
   "mimetype": "text/x-python",
   "name": "python",
   "nbconvert_exporter": "python",
   "pygments_lexer": "ipython3",
   "version": "3.10.9"
  }
 },
 "nbformat": 4,
 "nbformat_minor": 5
}
