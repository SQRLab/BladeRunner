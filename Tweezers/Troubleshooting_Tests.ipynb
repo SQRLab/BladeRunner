{
 "cells": [
  {
   "cell_type": "code",
   "execution_count": 1,
   "id": "cb99784d",
   "metadata": {},
   "outputs": [],
   "source": [
    "import numpy as np\n",
    "from scipy import constants\n",
    "import tabulate\n",
    "import pandas as pd\n",
    "import matplotlib.pyplot as plt\n",
    "from IonChainTools import calcPositions,lengthScale\n",
    "from tweezer_functions import *"
   ]
  },
  {
   "cell_type": "code",
   "execution_count": 2,
   "id": "a75c1b69",
   "metadata": {},
   "outputs": [],
   "source": [
    "#Constants in SI units\n",
    "eps0 = constants.epsilon_0 \n",
    "m = 39.9626*constants.atomic_mass\n",
    "c = constants.c\n",
    "e = constants.e\n",
    "hbar = constants.hbar\n",
    "pi = np.pi"
   ]
  },
  {
   "cell_type": "code",
   "execution_count": null,
   "id": "5390249f",
   "metadata": {},
   "outputs": [],
   "source": [
    "N = 12\n",
    "#tweezed ions is an adjustable parameter\n",
    "tweezed_ions = [0,1,5,6,10,11]\n",
    "omega_rf_r = 1.0 * pi * 1e6 *2\n",
    "omega_a = omega_rf_r /8\n",
    "\n",
    "NA = 0.6\n",
    "wx = 2*pi*1e6\n",
    "d = 5e-6\n",
    "tweezer_wavelength = 532*1e9\n",
    "P_opt = 15e-3\n",
    "omega_tweezer = 2*pi*c/tweezer_wavelength\n",
    "df = pd.read_csv('S_P_only.csv',sep = \",\",encoding='UTF-8')\n",
    "\n",
    "lambdares = df[\"wavelength (nm)\"]\n",
    "lambdares = [i*1e-9 for i in lambdares]\n",
    "omegares = [2*pi*c/i for i in lambdares]\n",
    "print(omegares)\n",
    "lifetimes = df[\"A_ki (s^-1)\"]\n",
    "lifetimes = [i for i in lifetimes]\n",
    "omega_res = np.array(omegares)\n",
    "linewidths = np.array(lifetimes)\n",
    "\n",
    "\n",
    "beam_waist = 0.41*tweezer_wavelength / NA\n",
    "#i'm not sure what the line under here is supposed to be for, I can't remember\n",
    "#omega_tweezer_r = omega_tweezer_r(potential(omega_tweezer,linewidths,omega_res,P_opt,beam_waists),beam_waists,m)\n",
    "\n"
   ]
  },
  {
   "cell_type": "code",
   "execution_count": null,
   "id": "701f3b4d",
   "metadata": {},
   "outputs": [],
   "source": [
    "def combined_frequencies(N,tweezed_ions,w_tweezer_r,w_tweezer_a,w_rf_r,w_rf_a):\n",
    "\n",
    "\n",
    "    omeg_tweezer_r = np.zeros(N)\n",
    "    omeg_tweezer_a = np.zeros(N)\n",
    "    omeg_tweezer_r[tweezed_ions] = w_tweezer_r\n",
    "    omeg_tweezer_a[tweezed_ions] = w_tweezer_a\n",
    "\n",
    "    omeg_rf_r = w_rf_r * np.ones(N) \n",
    "    omeg_rf_a = w_rf_a * np.ones(N)\n",
    "\n",
    "    omega_combined_rr = np.sqrt(omeg_rf_r**2 + omeg_tweezer_r**2)\n",
    "    omega_combined_ra = np.sqrt(omeg_rf_r**2 + omeg_tweezer_a)\n",
    "    omega_combined_ar = np.sqrt(omeg_rf_a**2 + omeg_tweezer_r**2)\n",
    "    \n",
    "    return np.array([omega_combined_rr,omega_combined_ra,omega_combined_ar])\n",
    "\n",
    "def trapping_ratios(w_tweezer_r,w_tweezer_a,w_rf_r,w_rf_a):\n",
    "    \n",
    "    tweezer_r_to_rf_ratio = w_tweezer_r / w_rf_r\n",
    "    tweezer_r_to_axial_ratio = w_tweezer_r / w_rf_a\n",
    "    tweezer_a_to_rf_ratio = w_tweezer_a / w_rf_a\n",
    "    \n",
    "    return np.array([tweezer_r_to_rf_ratio,tweezer_r_to_axial_ratio])"
   ]
  },
  {
   "cell_type": "code",
   "execution_count": null,
   "id": "9bf63f9d",
   "metadata": {},
   "outputs": [],
   "source": [
    "def potential(omega_tweezer,linewidths,omega_res,P_opt,beam_waist):\n",
    "    '''\n",
    "    Find the potential of the optical tweezers beam for\n",
    "    the given set of parameters at r=0 and z=0 -- without RWA\n",
    "\n",
    "\n",
    "    omega_tweezer = angular frequency of tweezer laser beam\n",
    "    linewidths = linewidth of the given resonant transition of ion taken from NIST database in angular frequency units \n",
    "        (ex, S1/2 to P1/2 and S1/2 to P3/2 for 40Ca+), this is a list/array of some form with all relevent transitions\n",
    "    P_opt = total optical power of tweezer laser beam\n",
    "    omega_res = angular frequency of resonant transition, also based off NIST data\n",
    "    beam_waists = beamwaist of the tweezer laser beam\n",
    "    given its frequency and the NA of our system or from measurement\n",
    "    '''\n",
    "    p = []\n",
    "    for i in range(len(linewidths)): \n",
    "        p.append( (-3*P_opt*(c**2)/((omega_res[i]**3)*(beam_waist**2))) * (linewidths[i]/((omega_res[i] - omega_tweezer)) +\n",
    "                                          linewidths[i]/(omega_res[i] + omega_tweezer)) ) \n",
    "    pot = sum(p)\n",
    "    return pot"
   ]
  },
  {
   "cell_type": "code",
   "execution_count": null,
   "id": "f8604d24",
   "metadata": {},
   "outputs": [],
   "source": [
    "potential(omega_tweezer,linewidths,omega_res,P_opt,beam_waist)"
   ]
  },
  {
   "cell_type": "code",
   "execution_count": null,
   "id": "c5b9cb3a",
   "metadata": {},
   "outputs": [],
   "source": [
    "def potentialRWA(omega_tweezer,linewidths,omega_res,P_opt,beam_waist):\n",
    "    '''\n",
    "    Find the potential of the optical tweezers beam for\n",
    "    the given set of parameters at r=0 and z=0 -- with RWA\n",
    "\n",
    "\n",
    "    omega_tweezer = angular frequency of tweezer laser beam\n",
    "    linewidths = linewidth of the given resonant transition of ion taken from NIST database in angular frequency units \n",
    "        (ex, S1/2 to P1/2 and S1/2 to P3/2 for 40Ca+), this is a list/array of some form with all relevent transitions\n",
    "    P_opt = total optical power of tweezer laser beam\n",
    "    omega_res = angular frequency of resonant transition, also based off NIST data\n",
    "    beam_waists = beamwaist of the tweezer laser beam\n",
    "    given its frequency and the NA of our system or from measurement\n",
    "    '''\n",
    "    p = []\n",
    "    for i in range(len(linewidths)): \n",
    "        p.append( (-3*P_opt*(c**2)/((omega_res[i]**3)*(beam_waist**2))) * (linewidths[i]/((omega_res[i] - omega_tweezer)))  ) \n",
    "    pot = sum(p)\n",
    "    return pot"
   ]
  },
  {
   "cell_type": "code",
   "execution_count": null,
   "id": "8436cb68",
   "metadata": {},
   "outputs": [],
   "source": [
    "potentialRWA(omega_tweezer,linewidths,omega_res,P_opt,beam_waist)"
   ]
  },
  {
   "cell_type": "code",
   "execution_count": null,
   "id": "abfe8632",
   "metadata": {},
   "outputs": [],
   "source": [
    "test = []\n",
    "for i in range(len(linewidths)):\n",
    "    test.append ((-3*P_opt*(c**2)/((omega_res[i]**3)*(beam_waist**2))) *\n",
    "                                          (linewidths[i]/(omega_res[i] + omega_tweezer)) )\n",
    "sum(test)    \n"
   ]
  },
  {
   "cell_type": "code",
   "execution_count": null,
   "id": "8ae5b1b2",
   "metadata": {},
   "outputs": [],
   "source": [
    " potentialRWA(omega_tweezer,linewidths,omega_res,P_opt,beam_waist) + -1.6996758171451078e-62 ==  potential(omega_tweezer,linewidths,omega_res,P_opt,beam_waist)"
   ]
  },
  {
   "cell_type": "code",
   "execution_count": null,
   "id": "9c305470",
   "metadata": {},
   "outputs": [],
   "source": [
    "def scattering(omega_tweezer,linewidths,omega_res,P_opt,beam_waist):\n",
    "    '''\n",
    "    Find the scattering of the optical tweezers beam (at r=0 and z=0) off of a given resonance\n",
    "    for the given set of parameters -- without RWA\n",
    "    omega_tweezer = angular frequency of tweezer laser beam\n",
    "    linewidths = linewidth of the given resonant transition taken from NIST database in angular frequency units \n",
    "        (ex, S1/2 to P1/2 and S1/2 to P3/2 for 40Ca+)\n",
    "    P_opt = total optical power of tweezer laser beam\n",
    "    omega_res = angular frequency of resonant transition, also based off NIST data\n",
    "    beam_waists = beamwaist of the tweezer laser beam\n",
    "    given its frequency and the NA of our system or from measurement\n",
    "    '''\n",
    "    s = []\n",
    "    for i in range(len(linewidths)):\n",
    "        s.append(((3*(c**2)*P_opt)/(hbar *pi* (omega_res[i]**3)*(beam_waist**2))) *((omega_tweezer/omegares[i])**3)* (((linewidths[i]/(omega_res[i] - omega_tweezer))+\n",
    "                                                                            (linewidths[i]/(omegares[i] + omega_tweezer)))**2) )\n",
    "    scat = sum(s)\n",
    "    return scat"
   ]
  },
  {
   "cell_type": "code",
   "execution_count": null,
   "id": "bdb474db",
   "metadata": {},
   "outputs": [],
   "source": [
    "scattering(omega_tweezer,linewidths,omega_res,P_opt,beam_waist)"
   ]
  },
  {
   "cell_type": "code",
   "execution_count": null,
   "id": "75e63c02",
   "metadata": {},
   "outputs": [],
   "source": [
    "def scatteringRWA(omega_tweezer,linewidths,omega_res,P_opt,beam_waist):\n",
    "    '''\n",
    "    Find the scattering of the optical tweezers beam (at r=0 and z=0) off of a given resonance\n",
    "    for the given set of parameters -- with RWA\n",
    "    omega_tweezer = angular frequency of tweezer laser beam\n",
    "    linewidths = linewidth of the given resonant transition taken from NIST database in angular frequency units \n",
    "        (ex, S1/2 to P1/2 and S1/2 to P3/2 for 40Ca+)\n",
    "    P_opt = total optical power of tweezer laser beam\n",
    "    omega_res = angular frequency of resonant transition, also based off NIST data\n",
    "    beam_waists = beamwaist of the tweezer laser beam\n",
    "    given its frequency and the NA of our system or from measurement\n",
    "    '''\n",
    "    s = []\n",
    "    for i in range(len(linewidths)):\n",
    "        s.append( (3*P_opt*(c**2)/(hbar *pi* (omega_res[i]**3)*(beam_waist**2))) *((omega_tweezer/omega_res[i])**3) *((linewidths[i]/(omega_res[i] - omega_tweezer))**(2)) \n",
    "        )\n",
    "    scat = sum(s)\n",
    "    return scat\n",
    "\n"
   ]
  },
  {
   "cell_type": "code",
   "execution_count": null,
   "id": "23e30e82",
   "metadata": {},
   "outputs": [],
   "source": [
    "scatteringRWA(omega_tweezer,linewidths,omega_res,P_opt,beam_waist)"
   ]
  },
  {
   "cell_type": "code",
   "execution_count": null,
   "id": "af7a20bc",
   "metadata": {},
   "outputs": [],
   "source": [
    "\n",
    "N = 5\n",
    "tweezed_ions = [0,4]\n",
    "w_tweezer_r = 2*pi*1e6\n",
    "w_tweezer_a = 2*pi*0.5*1e6\n",
    "w_rf_r = 2*pi*1e6\n",
    "w_rf_a = 2*pi*0.5e6\n",
    "\"\"\"def combined_freqs_to_mode_vectors(N,tweezed_ions,w_tweezer_r,w_tweezer_a,w_rf_r,w_rf_a):\n",
    "\n",
    "\n",
    "\n",
    "\n",
    "    combined_freqs = combined_frequencies(N,tweezed_ions,w_tweezer_r,w_tweezer_a,w_rf_r,w_rf_a)\n",
    "\n",
    "\n",
    "    omega_r_combined = combined_freqs[0]\n",
    "    omega_a = omega_rf_a\n",
    "\n",
    "    return mode_calc_r(m,omega_r_combined,omega_a)\"\"\""
   ]
  },
  {
   "cell_type": "code",
   "execution_count": null,
   "id": "e7b75e90",
   "metadata": {},
   "outputs": [],
   "source": [
    "combined_freqs_to_mode_vectors(N,tweezed_ions,w_tweezer_r,w_tweezer_a,w_rf_r,w_rf_a)"
   ]
  },
  {
   "cell_type": "code",
   "execution_count": 3,
   "id": "2d4408e0",
   "metadata": {},
   "outputs": [
    {
     "name": "stdout",
     "output_type": "stream",
     "text": [
      "[4788543317790194.0, 4746544743851730.0]\n"
     ]
    },
    {
     "data": {
      "text/plain": [
       "'\\ndef physical_params_to_mode_vectors(omega_tweezer,linewidths,omega_res,w_rf_a,w_rf_r,P_opt,beam_waist,m):\\n    U = potential(omega_tweezer,linewidths,omega_res,P_opt,beam_waist)\\n    w_tweezer_r =  omega_tweezer_r(U,beam_waist,m)\\n    w_tweezer_a = omega_tweezer_a(U,beam_waist,tweezer_wavelength,m)\\n    return combined_freqs_to_mode_vectors(N,tweezed_ions,w_tweezer_r,w_tweezer_a,w_rf_r,w_rf_a)'"
      ]
     },
     "execution_count": 3,
     "metadata": {},
     "output_type": "execute_result"
    }
   ],
   "source": [
    "N = 12\n",
    "#tweezed ions is an adjustable parameter\n",
    "tweezed_ions = [0,1,5,6,10,11]\n",
    "w_rf_r = 1.0 * pi * 1e6 *2\n",
    "w_rf_a = w_rf_r /8\n",
    "\n",
    "NA = 0.6\n",
    "wx = 2*pi*1e6\n",
    "d = 5e-6\n",
    "tweezer_wavelength = 532*1e9\n",
    "P_opt = 15e-3\n",
    "omega_tweezer = 2*pi*c/tweezer_wavelength\n",
    "df = pd.read_csv('S_P_only.csv',sep = \",\",encoding='UTF-8')\n",
    "\n",
    "lambdares = df[\"wavelength (nm)\"]\n",
    "lambdares = [i*1e-9 for i in lambdares]\n",
    "omegares = [2*pi*c/i for i in lambdares]\n",
    "print(omegares)\n",
    "lifetimes = df[\"A_ki (s^-1)\"]\n",
    "lifetimes = [i for i in lifetimes]\n",
    "omega_res = np.array(omegares)\n",
    "linewidths = np.array(lifetimes)\n",
    "\n",
    "\n",
    "beam_waist = 0.41*tweezer_wavelength / NA\n",
    "\n",
    "\"\"\"\n",
    "def physical_params_to_mode_vectors(omega_tweezer,linewidths,omega_res,w_rf_a,w_rf_r,P_opt,beam_waist,m):\n",
    "    U = potential(omega_tweezer,linewidths,omega_res,P_opt,beam_waist)\n",
    "    w_tweezer_r =  omega_tweezer_r(U,beam_waist,m)\n",
    "    w_tweezer_a = omega_tweezer_a(U,beam_waist,tweezer_wavelength,m)\n",
    "    return combined_freqs_to_mode_vectors(N,tweezed_ions,w_tweezer_r,w_tweezer_a,w_rf_r,w_rf_a)\"\"\""
   ]
  },
  {
   "cell_type": "code",
   "execution_count": 4,
   "id": "092096c4",
   "metadata": {},
   "outputs": [
    {
     "ename": "NameError",
     "evalue": "name 'tweezer_wavelength' is not defined",
     "output_type": "error",
     "traceback": [
      "\u001b[0;31m---------------------------------------------------------------------------\u001b[0m",
      "\u001b[0;31mNameError\u001b[0m                                 Traceback (most recent call last)",
      "Cell \u001b[0;32mIn[4], line 1\u001b[0m\n\u001b[0;32m----> 1\u001b[0m \u001b[43mphysical_params_to_mode_vectors\u001b[49m\u001b[43m(\u001b[49m\u001b[43momega_tweezer\u001b[49m\u001b[43m,\u001b[49m\u001b[43mlinewidths\u001b[49m\u001b[43m,\u001b[49m\u001b[43momega_res\u001b[49m\u001b[43m,\u001b[49m\u001b[43mw_rf_a\u001b[49m\u001b[43m,\u001b[49m\u001b[43mw_rf_r\u001b[49m\u001b[43m,\u001b[49m\u001b[43mP_opt\u001b[49m\u001b[43m,\u001b[49m\u001b[43mbeam_waist\u001b[49m\u001b[43m,\u001b[49m\u001b[43mm\u001b[49m\u001b[43m)\u001b[49m\n",
      "File \u001b[0;32m~/SQRL_Rithi_python/BladeRunner/Tweezers/tweezer_functions.py:264\u001b[0m, in \u001b[0;36mphysical_params_to_mode_vectors\u001b[0;34m(omega_tweezer, linewidths, omega_res, w_rf_a, w_rf_r, P_opt, beam_waist, m)\u001b[0m\n\u001b[1;32m    262\u001b[0m U \u001b[38;5;241m=\u001b[39m potential(omega_tweezer,linewidths,omega_res,P_opt,beam_waist)\n\u001b[1;32m    263\u001b[0m w_tweezer_r \u001b[38;5;241m=\u001b[39m  omega_tweezer_r(U,beam_waist,m)\n\u001b[0;32m--> 264\u001b[0m w_tweezer_a \u001b[38;5;241m=\u001b[39m omega_tweezer_a(U,beam_waist,\u001b[43mtweezer_wavelength\u001b[49m,m)\n\u001b[1;32m    265\u001b[0m \u001b[38;5;28;01mreturn\u001b[39;00m combined_freqs_to_mode_vectors(N,tweezed_ions,w_tweezer_r,w_tweezer_a,w_rf_r,w_rf_a)\n",
      "\u001b[0;31mNameError\u001b[0m: name 'tweezer_wavelength' is not defined"
     ]
    }
   ],
   "source": [
    "physical_params_to_mode_vectors(omega_tweezer,linewidths,omega_res,w_rf_a,w_rf_r,P_opt,beam_waist,m)"
   ]
  },
  {
   "cell_type": "code",
   "execution_count": null,
   "id": "48cf8238",
   "metadata": {},
   "outputs": [],
   "source": []
  }
 ],
 "metadata": {
  "kernelspec": {
   "display_name": "Python 3 (ipykernel)",
   "language": "python",
   "name": "python3"
  },
  "language_info": {
   "codemirror_mode": {
    "name": "ipython",
    "version": 3
   },
   "file_extension": ".py",
   "mimetype": "text/x-python",
   "name": "python",
   "nbconvert_exporter": "python",
   "pygments_lexer": "ipython3",
   "version": "3.10.9"
  }
 },
 "nbformat": 4,
 "nbformat_minor": 5
}
