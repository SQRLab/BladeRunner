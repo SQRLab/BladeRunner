{
 "cells": [
  {
   "cell_type": "code",
   "execution_count": 1,
   "id": "35fdc26c",
   "metadata": {},
   "outputs": [],
   "source": [
    "import numpy as np\n",
    "from scipy import constants\n",
    "import tabulate\n",
    "import pandas as pd\n",
    "import matplotlib.pyplot as plt\n",
    "# importing Vikrams functions\n",
    "#import sys\n",
    "#sys.path.insert(0,\"/Users/ritika/SQRL_Rithi_python/XTalkRobustMS/tools\")\n",
    "from IonChainTools import calcPositions,lengthScale\n",
    "from tweezer_functions import *"
   ]
  },
  {
   "cell_type": "code",
   "execution_count": 2,
   "id": "af563c31",
   "metadata": {},
   "outputs": [],
   "source": [
    "#Constants in SI units\n",
    "eps0 = constants.epsilon_0 \n",
    "m = 39.9626*constants.atomic_mass\n",
    "c = constants.c\n",
    "e = constants.e\n",
    "hbar = constants.hbar\n",
    "pi = np.pi"
   ]
  },
  {
   "cell_type": "code",
   "execution_count": 3,
   "id": "6c73d2c1",
   "metadata": {},
   "outputs": [],
   "source": [
    "NA = 0.6\n",
    "wx = 2*pi*1e6\n",
    "d = 5e-6\n",
    "tweezer_wavelength = 532*1e9\n",
    "U = 20e-3\n",
    "beam_waist = 0.41*tweezer_wavelength / NA"
   ]
  },
  {
   "cell_type": "code",
   "execution_count": 4,
   "id": "e2a77d59",
   "metadata": {},
   "outputs": [
    {
     "name": "stdout",
     "output_type": "stream",
     "text": [
      "0.4806948505383453 0.15833320135330747\n",
      "0.07690201867175281\n"
     ]
    }
   ],
   "source": [
    "#calculate tweezer radial and axial frequencies here\n",
    "omega_5_mW_r = omega_radial(U,beam_waist,m)\n",
    "omega_5_mW_a = omega_axial(U,beam_waist,tweezer_wavelength,m)\n",
    "print(omega_5_mW_r/(2*pi),omega_5_mW_a/(2*pi))\n",
    "print(omega_5_mW_r/(2*pi) / omega_5_mW_a/(2*pi))"
   ]
  },
  {
   "cell_type": "code",
   "execution_count": 5,
   "id": "40c41e0b",
   "metadata": {},
   "outputs": [
    {
     "name": "stdout",
     "output_type": "stream",
     "text": [
      "[(999999.9999999995, array([0.35355339, 0.35355339, 0.35355339, 0.35355339, 0.35355339,\n",
      "       0.35355339, 0.35355339, 0.35355339])), (979795.8971115276, array([-0.55560354, -0.37298641, -0.21700802, -0.07136779,  0.07136779,\n",
      "        0.21700802,  0.37298641,  0.55560354])), (950433.8849734105, array([ 0.55709556,  0.04250355, -0.23624471, -0.3633544 , -0.3633544 ,\n",
      "       -0.23624471,  0.04250355,  0.55709556])), (912322.9241954266, array([-0.42116893,  0.35773488,  0.40928049,  0.16471782, -0.16471782,\n",
      "       -0.40928049, -0.35773488,  0.42116893])), (865135.4993256227, array([-0.2508113 ,  0.54786711,  0.06689522, -0.36395103, -0.36395103,\n",
      "        0.06689522,  0.54786711, -0.2508113 ])), (807848.9682539135, array([ 0.11758094, -0.4731526 ,  0.4122611 ,  0.30387847, -0.30387847,\n",
      "       -0.4122611 ,  0.4731526 , -0.11758094])), (738555.674859028, array([-0.04169204,  0.27025003, -0.56099329,  0.33243529,  0.33243529,\n",
      "       -0.56099329,  0.27025003, -0.04169204])), (653828.9753758255, array([ 0.00980616, -0.09504478,  0.33976136, -0.61272551,  0.61272551,\n",
      "       -0.33976136,  0.09504478, -0.00980616]))]\n"
     ]
    }
   ],
   "source": [
    "N = 8\n",
    "omega_rf_x = 1 * 2*pi * 1e6 * np.ones(N)\n",
    "omega_a = 0.2*pi*1e6*2*np.ones(N)\n",
    "base = mode_calc_r(m,omega_rf_x,omega_a)\n",
    "print(base)"
   ]
  },
  {
   "cell_type": "code",
   "execution_count": 6,
   "id": "5bde74f8",
   "metadata": {},
   "outputs": [],
   "source": [
    "omega_range_twee_r = np.linspace(0.107*2*pi*1e6 , 1.5*2*pi*1e6,2)\n",
    "omega_range_twee_a = np.linspace(0.035*2*pi*1e6 , 0.158 * 2*pi*1e6 , 2)"
   ]
  },
  {
   "cell_type": "code",
   "execution_count": 7,
   "id": "3866a58a",
   "metadata": {},
   "outputs": [],
   "source": [
    "N = 2\n",
    "half_range = N - N//2\n",
    "tweezed_ions = range(half_range)\n",
    "omega_rf_x = 1.0 * pi * 1e6 *2\n",
    "omega_a = omega_rf_x /3\n",
    "omega_rf_x = omega_rf_x * np.ones(N)#rf pseudopotential applied to all ions\n",
    "omega_a = omega_a * np.ones(N)"
   ]
  },
  {
   "cell_type": "code",
   "execution_count": 8,
   "id": "ffbe39b5",
   "metadata": {},
   "outputs": [],
   "source": [
    "mode_vectors_per_strength =[]\n",
    "for tweezer_strength in omega_range_twee_r:\n",
    "    mode_vectors = []\n",
    "    for omega_tw in omega_range_twee_r:\n",
    "        omega_tw_x = np.full(N, omega_tw) * tweezer_strength\n",
    "        omega_combined_x = np.sqrt(omega_tw_x**2 + omega_rf_x**2)  # Assuming omega_rf_x is defined\n",
    "        modes = mode_calc_r(m, omega_combined_x, omega_a)  # Assuming m and omega_a are defined\n",
    "        mode_vectors.append(modes)\n",
    "    mode_vectors_per_strength.append(mode_vectors)\n",
    "\n",
    "# Convert the list of mode vectors per strength into a numpy array\n",
    "#mode_matrix_per_strength = np.array(mode_vectors_per_strength)"
   ]
  },
  {
   "cell_type": "code",
   "execution_count": null,
   "id": "fedef538",
   "metadata": {},
   "outputs": [],
   "source": [
    "mode_vectors_per_strength[0]"
   ]
  },
  {
   "cell_type": "code",
   "execution_count": null,
   "id": "212c67c5",
   "metadata": {},
   "outputs": [],
   "source": [
    "N = 12\n",
    "tweezed_ions = [0,1,2,9,10,11]\n",
    "\n",
    "\n",
    "tweezer_strength_r = 1.5*2*pi*1e6\n",
    "tweezer_strength_a = 0.158 * 2*pi*1e6\n",
    "\n",
    "omega_tweezer_r = np.zeros(N)\n",
    "omega_tweezer_a = np.zeros(N)\n",
    "omega_tweezer_r[tweezed_ions] = tweezer_strength_r\n",
    "omega_tweezer_a[tweezed_ions] = tweezer_strength_a\n",
    "\n",
    "#print(omega_tweezer_r)\n",
    "#print(omega_tweezer_a)\n",
    "\n",
    "omega_rf_r = 1.0 * pi * 1e6 *2\n",
    "omega_a = omega_rf_r /8\n",
    "omega_rf_r = omega_rf_r * np.ones(N) \n",
    "omega_a = omega_a * np.ones(N)\n",
    "\n",
    "\n",
    "omega_combined_rr = np.sqrt(omega_rf_r**2 + omega_tweezer_r**2)\n",
    "omega_combined_ra = np.sqrt(omega_rf_r**2 + omega_tweezer_a)\n",
    "omega_combined_ar = np.sqrt(omega_a**2 + omega_tweezer_r**2)\n",
    "#print(omega_combined_r)"
   ]
  },
  {
   "cell_type": "code",
   "execution_count": null,
   "id": "756b71c6",
   "metadata": {},
   "outputs": [],
   "source": [
    "rr_modes = mode_calc_r(m,omega_combined_rr,omega_a)\n",
    "ra_modes = mode_calc_r(m,omega_combined_ra,omega_a)\n",
    "ar_modes = mode_calc_a(m,omega_combined_ar)\n",
    "base_r = mode_calc_r(m,omega_rf_r,omega_a)\n",
    "base_a = mode_calc_a(m,omega_a)"
   ]
  },
  {
   "cell_type": "code",
   "execution_count": null,
   "id": "216d77ed",
   "metadata": {},
   "outputs": [],
   "source": [
    "#rr_modes"
   ]
  },
  {
   "cell_type": "code",
   "execution_count": null,
   "id": "9476a0ff",
   "metadata": {
    "scrolled": false
   },
   "outputs": [],
   "source": [
    "tweezer_strength_r = 0.4*2*pi*1e6\n",
    "omega_rf_r = 1.0 * pi * 1e6 *2\n",
    "omega_a = omega_rf_r /8\n",
    "omega_rf_r = omega_rf_r * np.ones(N) \n",
    "omega_a = omega_a * np.ones(N)\n",
    "omega_combined_rr = np.sqrt(omega_rf_r**2 + omega_tweezer_r**2)\n",
    "rr_modes = mode_calc_r(m,omega_combined_rr,omega_a)\n",
    "\n",
    "for i in range(len(rr_modes)):\n",
    "    ion_numbers = np.arange(0, N)\n",
    "    colors = ['blue' if x in tweezed_ions else 'gray' for x in ion_numbers]\n",
    "     # Convert frequency to MHz\n",
    "    frequency_mhz = rr_modes[i][0] / (2 * np.pi * 1e6)\n",
    "    \n",
    "    plt.bar(ion_numbers, rr_modes[i][1],color = colors)\n",
    "    for index, value in enumerate(rr_modes[i][1]):\n",
    "        plt.text(index, value, str(round(value, 2)), ha='center', va='bottom', rotation=45)\n",
    "    \n",
    "    plt.figtext(0.1, 0.9, f'Frequency = {frequency_mhz:.2f} MHz', fontsize=12, ha='center', va='bottom')\n",
    "    plt.xticks(ion_numbers)\n",
    "    plt.title(f'Mode {i}')\n",
    "    plt.xlabel('Ion Numbers')\n",
    "    plt.ylabel('Values')\n",
    "    plt.show()"
   ]
  },
  {
   "cell_type": "code",
   "execution_count": null,
   "id": "7b512561",
   "metadata": {},
   "outputs": [],
   "source": [
    "tweezer_strength_r = 0.4*2*pi*1e6\n",
    "omega_rf_r = 1.0 * pi * 1e6 *2\n",
    "omega_a = omega_rf_r /8\n",
    "omega_rf_r = omega_rf_r * np.ones(N) \n",
    "omega_a = omega_a * np.ones(N)\n",
    "omega_combined_rr = np.sqrt(omega_rf_r**2 + omega_tweezer_r**2)\n",
    "rr_modes = mode_calc_r(m,omega_combined_rr,omega_a)\n",
    "\n",
    "for i in range(len(ra_modes)):\n",
    "    ion_numbers = np.arange(0, N)\n",
    "    colors = ['blue' if x in tweezed_ions else 'gray' for x in ion_numbers]\n",
    "     # Convert frequency to MHz\n",
    "    frequency_mhz = rr_modes[i][0] / (2 * np.pi * 1e6)\n",
    "    \n",
    "    plt.bar(ion_numbers, rr_modes[i][1],color = colors)\n",
    "    for index, value in enumerate(rr_modes[i][1]):\n",
    "        plt.text(index, value, str(round(value, 2)), ha='center', va='bottom', rotation=45)\n",
    "    \n",
    "    plt.figtext(0.1, 0.9, f'Frequency = {frequency_mhz:.2f} MHz', fontsize=12, ha='center', va='bottom')\n",
    "    plt.xticks(ion_numbers)\n",
    "    plt.title(f'Mode {i}')\n",
    "    plt.xlabel('Ion Numbers')\n",
    "    plt.ylabel('Values')\n",
    "    plt.show()"
   ]
  },
  {
   "cell_type": "code",
   "execution_count": null,
   "id": "c84ea725",
   "metadata": {},
   "outputs": [],
   "source": [
    "tweezer_strength_r = 0.4*2*pi*1e6\n",
    "omega_rf_r = 1.0 * pi * 1e6 *2\n",
    "omega_a = omega_rf_r /8\n",
    "omega_rf_r = omega_rf_r * np.ones(N) \n",
    "omega_a = omega_a * np.ones(N)\n",
    "omega_combined_rr = np.sqrt(omega_rf_r**2 + omega_tweezer_r**2)\n",
    "rr_modes = mode_calc_r(m,omega_combined_rr,omega_a)\n",
    "\n",
    "for i in range(len(ar_modes)):\n",
    "    ion_numbers = np.arange(0, N)\n",
    "    colors = ['blue' if x in tweezed_ions else 'gray' for x in ion_numbers]\n",
    "     # Convert frequency to MHz\n",
    "    frequency_mhz = rr_modes[i][0] / (2 * np.pi * 1e6)\n",
    "    \n",
    "    plt.bar(ion_numbers, rr_modes[i][1],color = colors)\n",
    "    for index, value in enumerate(rr_modes[i][1]):\n",
    "        plt.text(index, value, str(round(value, 2)), ha='center', va='bottom', rotation=45)\n",
    "    \n",
    "    plt.figtext(0.1, 0.9, f'Frequency = {frequency_mhz:.2f} MHz', fontsize=12, ha='center', va='bottom')\n",
    "    plt.xticks(ion_numbers)\n",
    "    plt.title(f'Mode {i}')\n",
    "    plt.xlabel('Ion Numbers')\n",
    "    plt.ylabel('Values')\n",
    "    plt.show()"
   ]
  },
  {
   "cell_type": "code",
   "execution_count": null,
   "id": "4e2923d7",
   "metadata": {},
   "outputs": [],
   "source": []
  }
 ],
 "metadata": {
  "kernelspec": {
   "display_name": "Python 3 (ipykernel)",
   "language": "python",
   "name": "python3"
  },
  "language_info": {
   "codemirror_mode": {
    "name": "ipython",
    "version": 3
   },
   "file_extension": ".py",
   "mimetype": "text/x-python",
   "name": "python",
   "nbconvert_exporter": "python",
   "pygments_lexer": "ipython3",
   "version": "3.10.9"
  }
 },
 "nbformat": 4,
 "nbformat_minor": 5
}
