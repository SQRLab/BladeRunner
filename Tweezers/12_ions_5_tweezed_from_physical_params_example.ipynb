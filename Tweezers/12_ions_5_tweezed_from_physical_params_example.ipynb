{
 "cells": [
  {
   "cell_type": "code",
   "execution_count": 5,
   "metadata": {
    "ExecuteTime": {
     "end_time": "2024-07-30T18:04:23.942263Z",
     "start_time": "2024-07-30T18:04:23.937833Z"
    }
   },
   "outputs": [],
   "source": [
    "import numpy as np\n",
    "from scipy import constants\n",
    "import tabulate\n",
    "import pandas as pd\n",
    "import matplotlib.pyplot as plt\n",
    "from IonChainTools import calcPositions,lengthScale\n",
    "from tweezer_functions import *"
   ]
  },
  {
   "cell_type": "code",
   "execution_count": 6,
   "metadata": {
    "ExecuteTime": {
     "end_time": "2024-07-30T18:04:24.896853Z",
     "start_time": "2024-07-30T18:04:24.893424Z"
    }
   },
   "outputs": [],
   "source": [
    "#Constants in SI units\n",
    "eps0 = constants.epsilon_0 \n",
    "m = 39.9626*constants.atomic_mass\n",
    "c = constants.c\n",
    "e = constants.e\n",
    "hbar = constants.hbar\n",
    "pi = np.pi"
   ]
  },
  {
   "cell_type": "code",
   "execution_count": 8,
   "metadata": {
    "ExecuteTime": {
     "end_time": "2024-07-30T18:04:53.097591Z",
     "start_time": "2024-07-30T18:04:53.083647Z"
    }
   },
   "outputs": [
    {
     "name": "stdout",
     "output_type": "stream",
     "text": [
      "[4788543317790194.0, 4746544743851730.0]\n"
     ]
    }
   ],
   "source": [
    "N = 12\n",
    "#tweezed ions is an adjustable parameter\n",
    "tweezed_ions = [0,1,5,6,10,11]\n",
    "#radial and axial frequencies of the blade trap\n",
    "\n",
    "w_rf_r = 1.0 * pi * 1e6 *2\n",
    "w_rf_a = w_rf_r /8\n",
    "\n",
    "NA = 0.6\n",
    "d = 5e-6\n",
    "tweezer_wavelength = 532*1e-9\n",
    "P_opt = 15e-3\n",
    "omega_tweezer = 2*pi*c/tweezer_wavelength\n",
    "df = pd.read_csv('S_P_only.csv',sep = \",\",encoding='UTF-8')\n",
    "\n",
    "lambdares = df[\"wavelength (nm)\"]\n",
    "lambdares = [i*1e-9 for i in lambdares]\n",
    "omegares = [2*pi*c/i for i in lambdares]\n",
    "print(omegares)\n",
    "lifetimes = df[\"A_ki (s^-1)\"]\n",
    "lifetimes = [i for i in lifetimes]\n",
    "omega_res = np.array(omegares)\n",
    "linewidths = np.array(lifetimes)\n",
    "\n",
    "\n",
    "beam_waist = 0.41*tweezer_wavelength / NA"
   ]
  },
  {
   "cell_type": "code",
   "execution_count": 9,
   "metadata": {
    "ExecuteTime": {
     "end_time": "2024-07-30T18:04:53.894890Z",
     "start_time": "2024-07-30T18:04:53.877040Z"
    }
   },
   "outputs": [
    {
     "data": {
      "text/plain": [
       "[(1167253.4786396543,\n",
       "  array([0.63264429, 0.30980772, 0.04914822, 0.01850789, 0.01343989,\n",
       "         0.02901144, 0.02901144, 0.01343989, 0.01850789, 0.04914822,\n",
       "         0.30980772, 0.63264429])),\n",
       " (1167027.281368155,\n",
       "  array([-0.63477792, -0.30746618, -0.04734946, -0.01523016, -0.00604469,\n",
       "         -0.00332799,  0.00332799,  0.00604469,  0.01523016,  0.04734946,\n",
       "          0.30746618,  0.63477792])),\n",
       " (1129438.6441048547,\n",
       "  array([ 0.14185092, -0.21014246, -0.05503547, -0.07175871, -0.17042774,\n",
       "         -0.63126432, -0.63126432, -0.17042774, -0.07175871, -0.05503547,\n",
       "         -0.21014246,  0.14185092])),\n",
       " (1123709.2215577776,\n",
       "  array([-0.31153903,  0.62661184,  0.0957111 ,  0.03047021,  0.01222662,\n",
       "          0.00790502, -0.00790502, -0.01222662, -0.03047021, -0.0957111 ,\n",
       "         -0.62661184,  0.31153903])),\n",
       " (1122904.9378661185,\n",
       "  array([ 0.28220275, -0.5892373 , -0.08098234, -0.00376426,  0.0567992 ,\n",
       "          0.25171921,  0.25171921,  0.0567992 , -0.00376426, -0.08098234,\n",
       "         -0.5892373 ,  0.28220275])),\n",
       " (1022548.9371921268,\n",
       "  array([ 3.52756897e-04, -2.93924839e-02,  6.38214076e-02,  1.38530012e-01,\n",
       "          2.56479722e-01,  6.40382990e-01, -6.40382990e-01, -2.56479722e-01,\n",
       "         -1.38530012e-01, -6.38214076e-02,  2.93924839e-02, -3.52756897e-04])),\n",
       " (952056.032176443,\n",
       "  array([ 0.00105326,  0.09441409, -0.43910237, -0.47100237, -0.24559713,\n",
       "          0.12693619,  0.12693619, -0.24559713, -0.47100237, -0.43910237,\n",
       "          0.09441409,  0.00105326])),\n",
       " (947006.5269506447,\n",
       "  array([ 0.00054679,  0.09217689, -0.45267582, -0.45130417, -0.18466475,\n",
       "          0.22093257, -0.22093257,  0.18466475,  0.45130417,  0.45267582,\n",
       "         -0.09217689, -0.00054679])),\n",
       " (871890.41732298,\n",
       "  array([-1.00734937e-04,  5.93099436e-02, -5.09013698e-01,  2.44197337e-01,\n",
       "          4.06234053e-01, -1.12822563e-01, -1.12822563e-01,  4.06234053e-01,\n",
       "          2.44197337e-01, -5.09013698e-01,  5.93099436e-02, -1.00734937e-04])),\n",
       " (869121.2205817373,\n",
       "  array([-1.13446087e-05, -5.70785989e-02,  4.96173545e-01, -2.71097304e-01,\n",
       "         -3.88309771e-01,  1.62097564e-01, -1.62097564e-01,  3.88309771e-01,\n",
       "          2.71097304e-01, -4.96173545e-01,  5.70785989e-02,  1.13446087e-05])),\n",
       " (793064.3615653856,\n",
       "  array([-1.15058933e-04, -1.50679500e-02,  1.89977834e-01, -4.61539164e-01,\n",
       "          4.92141801e-01, -9.19750725e-02, -9.19750725e-02,  4.92141801e-01,\n",
       "         -4.61539164e-01,  1.89977834e-01, -1.50679500e-02, -1.15058933e-04])),\n",
       " (791443.3458307786,\n",
       "  array([-4.38246119e-05, -1.42717013e-02,  1.82813171e-01, -4.49977604e-01,\n",
       "          4.99145846e-01, -1.21446455e-01,  1.21446455e-01, -4.99145846e-01,\n",
       "          4.49977604e-01, -1.82813171e-01,  1.42717013e-02,  4.38246119e-05]))]"
      ]
     },
     "execution_count": 9,
     "metadata": {},
     "output_type": "execute_result"
    }
   ],
   "source": [
    "\n",
    "physical_params_to_radial_mode_vectors(N,tweezed_ions,tweezer_wavelength,linewidths,omega_res,w_rf_a,w_rf_r,P_opt,beam_waist,m)\n"
   ]
  },
  {
   "cell_type": "code",
   "execution_count": null,
   "metadata": {},
   "outputs": [],
   "source": []
  }
 ],
 "metadata": {
  "kernelspec": {
   "display_name": "Python 3",
   "language": "python",
   "name": "python3"
  },
  "language_info": {
   "codemirror_mode": {
    "name": "ipython",
    "version": 3
   },
   "file_extension": ".py",
   "mimetype": "text/x-python",
   "name": "python",
   "nbconvert_exporter": "python",
   "pygments_lexer": "ipython3",
   "version": "3.7.4"
  },
  "toc": {
   "base_numbering": 1,
   "nav_menu": {},
   "number_sections": true,
   "sideBar": true,
   "skip_h1_title": false,
   "title_cell": "Table of Contents",
   "title_sidebar": "Contents",
   "toc_cell": false,
   "toc_position": {},
   "toc_section_display": true,
   "toc_window_display": false
  },
  "varInspector": {
   "cols": {
    "lenName": 16,
    "lenType": 16,
    "lenVar": 40
   },
   "kernels_config": {
    "python": {
     "delete_cmd_postfix": "",
     "delete_cmd_prefix": "del ",
     "library": "var_list.py",
     "varRefreshCmd": "print(var_dic_list())"
    },
    "r": {
     "delete_cmd_postfix": ") ",
     "delete_cmd_prefix": "rm(",
     "library": "var_list.r",
     "varRefreshCmd": "cat(var_dic_list()) "
    }
   },
   "types_to_exclude": [
    "module",
    "function",
    "builtin_function_or_method",
    "instance",
    "_Feature"
   ],
   "window_display": false
  }
 },
 "nbformat": 4,
 "nbformat_minor": 5
}
