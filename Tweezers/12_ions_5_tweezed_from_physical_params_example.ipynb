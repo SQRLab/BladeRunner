{
 "cells": [
  {
   "cell_type": "code",
   "execution_count": 1,
   "id": "35fdc26c",
   "metadata": {},
   "outputs": [],
   "source": [
    "import numpy as np\n",
    "from scipy import constants\n",
    "import tabulate\n",
    "import pandas as pd\n",
    "import matplotlib.pyplot as plt\n",
    "from IonChainTools import calcPositions,lengthScale\n",
    "from tweezer_functions import *"
   ]
  },
  {
   "cell_type": "code",
   "execution_count": 2,
   "id": "af563c31",
   "metadata": {},
   "outputs": [],
   "source": [
    "#Constants in SI units\n",
    "eps0 = constants.epsilon_0 \n",
    "m = 39.9626*constants.atomic_mass\n",
    "c = constants.c\n",
    "e = constants.e\n",
    "hbar = constants.hbar\n",
    "pi = np.pi"
   ]
  },
  {
   "cell_type": "code",
   "execution_count": 3,
   "id": "212c67c5",
   "metadata": {},
   "outputs": [
    {
     "name": "stdout",
     "output_type": "stream",
     "text": [
      "[4788543317790194.0, 4746544743851730.0]\n"
     ]
    }
   ],
   "source": [
    "N = 12\n",
    "#tweezed ions is an adjustable parameter\n",
    "tweezed_ions = [0,1,5,6,10,11]\n",
    "#radial and axial frequencies of the blade trap\n",
    "\n",
    "w_rf_r = 1.0 * pi * 1e6 *2\n",
    "w_rf_a = w_rf_r /8\n",
    "\n",
    "NA = 0.6\n",
    "wx = 2*pi*1e6\n",
    "d = 5e-6\n",
    "tweezer_wavelength = 532*1e9\n",
    "P_opt = 15e-3\n",
    "omega_tweezer = 2*pi*c/tweezer_wavelength\n",
    "df = pd.read_csv('S_P_only.csv',sep = \",\",encoding='UTF-8')\n",
    "\n",
    "lambdares = df[\"wavelength (nm)\"]\n",
    "lambdares = [i*1e-9 for i in lambdares]\n",
    "omegares = [2*pi*c/i for i in lambdares]\n",
    "print(omegares)\n",
    "lifetimes = df[\"A_ki (s^-1)\"]\n",
    "lifetimes = [i for i in lifetimes]\n",
    "omega_res = np.array(omegares)\n",
    "linewidths = np.array(lifetimes)\n",
    "\n",
    "\n",
    "beam_waist = 0.41*tweezer_wavelength / NA"
   ]
  },
  {
   "cell_type": "code",
   "execution_count": 4,
   "id": "1b022651",
   "metadata": {},
   "outputs": [
    {
     "data": {
      "text/plain": [
       "[(1000000.0000000001,\n",
       "  array([0.28867513, 0.28867513, 0.28867513, 0.28867513, 0.28867513,\n",
       "         0.28867513, 0.28867513, 0.28867513, 0.28867513, 0.28867513,\n",
       "         0.28867513, 0.28867513])),\n",
       " (992156.7416596987,\n",
       "  array([-0.4815668 , -0.37106508, -0.27873523, -0.19479282, -0.11535286,\n",
       "         -0.03821345,  0.03821345,  0.11535286,  0.19479282,  0.27873523,\n",
       "          0.37106508,  0.4815668 ])),\n",
       " (980883.8816819862,\n",
       "  array([ 0.53408894,  0.19502832, -0.02049328, -0.16314016, -0.25150555,\n",
       "         -0.29397828, -0.29397828, -0.25150555, -0.16314016, -0.02049328,\n",
       "          0.19502832,  0.53408894])),\n",
       " (966520.8689891044,\n",
       "  array([-0.46802846,  0.11797224,  0.316344  ,  0.32620253,  0.23169103,\n",
       "          0.0828828 , -0.0828828 , -0.23169103, -0.32620253, -0.316344  ,\n",
       "         -0.11797224,  0.46802846])),\n",
       " (949228.9068865108,\n",
       "  array([ 0.34283993, -0.38533365, -0.33429551, -0.0827221 ,  0.15973065,\n",
       "          0.29978067,  0.29978067,  0.15973065, -0.0827221 , -0.33429551,\n",
       "         -0.38533365,  0.34283993])),\n",
       " (929046.7375531576,\n",
       "  array([ 0.21472343, -0.49418288, -0.06392946,  0.28045911,  0.32828302,\n",
       "          0.13843085, -0.13843085, -0.32828302, -0.28045911,  0.06392946,\n",
       "          0.49418288, -0.21472343])),\n",
       " (905928.0237105207,\n",
       "  array([-0.11586526,  0.44543945, -0.27931173, -0.3462811 , -0.0043386 ,\n",
       "          0.30035724,  0.30035724, -0.0043386 , -0.3462811 , -0.27931173,\n",
       "          0.44543945, -0.11586526])),\n",
       " (879756.588508365,\n",
       "  array([ 0.05374761, -0.31292729,  0.47342871,  0.03974154, -0.35876444,\n",
       "         -0.21156948,  0.21156948,  0.35876444, -0.03974154, -0.47342871,\n",
       "          0.31292729, -0.05374761])),\n",
       " (850346.4489411804,\n",
       "  array([-0.02117943,  0.17609326, -0.45346126,  0.34425269,  0.24487959,\n",
       "         -0.29058485, -0.29058485,  0.24487959,  0.34425269, -0.45346126,\n",
       "          0.17609326, -0.02117943])),\n",
       " (817430.9149082591,\n",
       "  array([ 0.00690815, -0.07883896,  0.30345673, -0.49792565,  0.22626312,\n",
       "          0.32019644, -0.32019644, -0.22626312,  0.49792565, -0.30345673,\n",
       "          0.07883896, -0.00690815])),\n",
       " (780640.3800103477,\n",
       "  array([-0.00176713,  0.02689725, -0.14439892,  0.38051084, -0.51760304,\n",
       "          0.256361  ,  0.256361  , -0.51760304,  0.38051084, -0.14439892,\n",
       "          0.02689725, -0.00176713])),\n",
       " (739463.95057134,\n",
       "  array([ 3.08229468e-04, -6.12101744e-03,  4.38798223e-02, -1.65773966e-01,\n",
       "          3.81230009e-01, -5.70280345e-01,  5.70280345e-01, -3.81230009e-01,\n",
       "          1.65773966e-01, -4.38798223e-02,  6.12101744e-03, -3.08229468e-04]))]"
      ]
     },
     "execution_count": 4,
     "metadata": {},
     "output_type": "execute_result"
    }
   ],
   "source": [
    "physical_params_to_radial_mode_vectors(N,tweezed_ions,omega_tweezer,tweezer_wavelength,linewidths,omega_res,w_rf_a,w_rf_r,P_opt,beam_waist,m)"
   ]
  }
 ],
 "metadata": {
  "kernelspec": {
   "display_name": "Python 3 (ipykernel)",
   "language": "python",
   "name": "python3"
  },
  "language_info": {
   "codemirror_mode": {
    "name": "ipython",
    "version": 3
   },
   "file_extension": ".py",
   "mimetype": "text/x-python",
   "name": "python",
   "nbconvert_exporter": "python",
   "pygments_lexer": "ipython3",
   "version": "3.10.9"
  }
 },
 "nbformat": 4,
 "nbformat_minor": 5
}
